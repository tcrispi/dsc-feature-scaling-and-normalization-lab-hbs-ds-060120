{
 "cells": [
  {
   "cell_type": "markdown",
   "metadata": {},
   "source": [
    "# Feature Scaling and Normalization - Lab"
   ]
  },
  {
   "cell_type": "markdown",
   "metadata": {},
   "source": [
    "## Introduction\n",
    "In this lab, you'll practice your feature scaling and normalization skills!"
   ]
  },
  {
   "cell_type": "markdown",
   "metadata": {},
   "source": [
    "## Objectives\n",
    "You will be able to:\n",
    "* Identify if it is necessary to perform log transformations on a set of features\n",
    "* Perform log transformations on different features of a dataset\n",
    "* Determine if it is necessary to perform normalization/standardization for a specific model or set of data\n",
    "* Compare the different standardization and normalization techniques\n",
    "* Use standardization/normalization on features of a dataset"
   ]
  },
  {
   "cell_type": "markdown",
   "metadata": {},
   "source": [
    "## Back to the Ames Housing data"
   ]
  },
  {
   "cell_type": "markdown",
   "metadata": {},
   "source": [
    "Let's import our Ames Housing data."
   ]
  },
  {
   "cell_type": "code",
   "execution_count": 2,
   "metadata": {},
   "outputs": [],
   "source": [
    "import pandas as pd\n",
    "import matplotlib.pyplot as plt\n",
    "%matplotlib inline\n",
    "plt.style.use('seaborn')\n",
    "\n",
    "ames = pd.read_csv('ames.csv')"
   ]
  },
  {
   "cell_type": "markdown",
   "metadata": {},
   "source": [
    "## Look at the histograms for the continuous variables\n",
    "\n",
    "Since there are so many features it is helpful to filter the columns by datatype and number of unique values. A heuristic you might use to select continous variables might be a combination of features that are not object datatypes and have at least a certain amount of unique values."
   ]
  },
  {
   "cell_type": "code",
   "execution_count": null,
   "metadata": {},
   "outputs": [
    {
     "data": {
      "text/plain": [
       "array([[<matplotlib.axes._subplots.AxesSubplot object at 0x7ff0afbc0da0>,\n",
       "        <matplotlib.axes._subplots.AxesSubplot object at 0x7ff0af888748>,\n",
       "        <matplotlib.axes._subplots.AxesSubplot object at 0x7ff0af846128>,\n",
       "        <matplotlib.axes._subplots.AxesSubplot object at 0x7ff0af7f3ac8>,\n",
       "        <matplotlib.axes._subplots.AxesSubplot object at 0x7ff0af7ae4a8>,\n",
       "        <matplotlib.axes._subplots.AxesSubplot object at 0x7ff0af7dae48>],\n",
       "       [<matplotlib.axes._subplots.AxesSubplot object at 0x7ff0af792828>,\n",
       "        <matplotlib.axes._subplots.AxesSubplot object at 0x7ff0af74b240>,\n",
       "        <matplotlib.axes._subplots.AxesSubplot object at 0x7ff0af74b278>,\n",
       "        <matplotlib.axes._subplots.AxesSubplot object at 0x7ff0af6b2588>,\n",
       "        <matplotlib.axes._subplots.AxesSubplot object at 0x7ff0af662f28>,\n",
       "        <matplotlib.axes._subplots.AxesSubplot object at 0x7ff0af69a908>],\n",
       "       [<matplotlib.axes._subplots.AxesSubplot object at 0x7ff0af6552e8>,\n",
       "        <matplotlib.axes._subplots.AxesSubplot object at 0x7ff0af602c88>,\n",
       "        <matplotlib.axes._subplots.AxesSubplot object at 0x7ff0af5bb668>,\n",
       "        <matplotlib.axes._subplots.AxesSubplot object at 0x7ff0af576048>,\n",
       "        <matplotlib.axes._subplots.AxesSubplot object at 0x7ff0af51f9e8>,\n",
       "        <matplotlib.axes._subplots.AxesSubplot object at 0x7ff0af55c3c8>],\n",
       "       [<matplotlib.axes._subplots.AxesSubplot object at 0x7ff0af50ad68>,\n",
       "        <matplotlib.axes._subplots.AxesSubplot object at 0x7ff0af4c2748>,\n",
       "        <matplotlib.axes._subplots.AxesSubplot object at 0x7ff0af480128>,\n",
       "        <matplotlib.axes._subplots.AxesSubplot object at 0x7ff0af429ac8>,\n",
       "        <matplotlib.axes._subplots.AxesSubplot object at 0x7ff0af3e54a8>,\n",
       "        <matplotlib.axes._subplots.AxesSubplot object at 0x7ff0af413e48>],\n",
       "       [<matplotlib.axes._subplots.AxesSubplot object at 0x7ff0af3cb828>,\n",
       "        <matplotlib.axes._subplots.AxesSubplot object at 0x7ff0af388208>,\n",
       "        <matplotlib.axes._subplots.AxesSubplot object at 0x7ff0af332ba8>,\n",
       "        <matplotlib.axes._subplots.AxesSubplot object at 0x7ff0af2ee588>,\n",
       "        <matplotlib.axes._subplots.AxesSubplot object at 0x7ff0af31cf28>,\n",
       "        <matplotlib.axes._subplots.AxesSubplot object at 0x7ff0af2d3908>],\n",
       "       [<matplotlib.axes._subplots.AxesSubplot object at 0x7ff0af28f2e8>,\n",
       "        <matplotlib.axes._subplots.AxesSubplot object at 0x7ff0af23cc88>,\n",
       "        <matplotlib.axes._subplots.AxesSubplot object at 0x7ff0af1f8668>,\n",
       "        <matplotlib.axes._subplots.AxesSubplot object at 0x7ff0af1b2048>,\n",
       "        <matplotlib.axes._subplots.AxesSubplot object at 0x7ff0af1dd9e8>,\n",
       "        <matplotlib.axes._subplots.AxesSubplot object at 0x7ff0af1973c8>],\n",
       "       [<matplotlib.axes._subplots.AxesSubplot object at 0x7ff0af144d68>,\n",
       "        <matplotlib.axes._subplots.AxesSubplot object at 0x7ff0af0fd748>,\n",
       "        <matplotlib.axes._subplots.AxesSubplot object at 0x7ff0af0b9128>,\n",
       "        <matplotlib.axes._subplots.AxesSubplot object at 0x7ff0af066ac8>,\n",
       "        <matplotlib.axes._subplots.AxesSubplot object at 0x7ff0af09e4a8>,\n",
       "        <matplotlib.axes._subplots.AxesSubplot object at 0x7ff0af04ee48>]],\n",
       "      dtype=object)"
      ]
     },
     "execution_count": 3,
     "metadata": {},
     "output_type": "execute_result"
    }
   ],
   "source": [
    "# Your code here\n",
    "ames.hist(bins='auto',figsize=(32,20))"
   ]
  },
  {
   "cell_type": "markdown",
   "metadata": {},
   "source": [
    "We can see from our histogram of the contiuous features that there are many examples where there are a ton of zeros. For example, WoodDeckSF (square footage of a wood deck) gives us a positive number indicating the size of the deck and zero if no deck exists. It might have made sense to categorize this variable to \"deck exists or not (binary variable 1/0). Now you have a zero-inflated variable which is cumbersome to work with.\n",
    "\n",
    "Lets drop these zero-inflated variables for now and select the features which don't have this characteristic."
   ]
  },
  {
   "cell_type": "code",
   "execution_count": null,
   "metadata": {},
   "outputs": [],
   "source": [
    "# Select non zero-inflated continuous features as ames_cont\n",
    "continuous = ['1stFlrSF', 'YearBuilt', 'LotFrontage', 'GrLivArea', 'SalePrice', 'LotArea']\n",
    "ames_cont = ames[continuous]\n"
   ]
  },
  {
   "cell_type": "markdown",
   "metadata": {},
   "source": [
    "## Perform log transformations for the variables where it makes sense"
   ]
  },
  {
   "cell_type": "code",
   "execution_count": null,
   "metadata": {},
   "outputs": [],
   "source": [
    "# Your code here\n",
    "import numpy as np\n",
    "log_names = [f'{column}_log' for column in ames_cont.columns]\n",
    "\n",
    "ames_log = np.log(ames_cont)\n",
    "ames_log.columns = log_names\n",
    "ames_log.hist(figsize=(10,10),bins='auto')\n"
   ]
  },
  {
   "cell_type": "markdown",
   "metadata": {},
   "source": [
    "## Standardize the continuous variables"
   ]
  },
  {
   "cell_type": "markdown",
   "metadata": {},
   "source": [
    "Store your final features in a DataFrame `features_final`: "
   ]
  },
  {
   "cell_type": "code",
   "execution_count": null,
   "metadata": {},
   "outputs": [],
   "source": [
    "# Your code here"
   ]
  },
  {
   "cell_type": "markdown",
   "metadata": {},
   "source": [
    "## Summary\n",
    "Great! You've now got some hands-on practice transforming data using log transforms, feature scaling, and normalization!"
   ]
  }
 ],
 "metadata": {
  "kernelspec": {
   "display_name": "Python 3",
   "language": "python",
   "name": "python3"
  },
  "language_info": {
   "codemirror_mode": {
    "name": "ipython",
    "version": 3
   },
   "file_extension": ".py",
   "mimetype": "text/x-python",
   "name": "python",
   "nbconvert_exporter": "python",
   "pygments_lexer": "ipython3",
   "version": "3.6.9"
  },
  "toc": {
   "base_numbering": 1,
   "nav_menu": {},
   "number_sections": true,
   "sideBar": true,
   "skip_h1_title": false,
   "title_cell": "Table of Contents",
   "title_sidebar": "Contents",
   "toc_cell": false,
   "toc_position": {},
   "toc_section_display": true,
   "toc_window_display": false
  }
 },
 "nbformat": 4,
 "nbformat_minor": 2
}
